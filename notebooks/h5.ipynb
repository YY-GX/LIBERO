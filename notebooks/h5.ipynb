{
 "cells": [
  {
   "cell_type": "code",
   "execution_count": 1,
   "id": "initial_id",
   "metadata": {
    "collapsed": true,
    "ExecuteTime": {
     "end_time": "2024-08-06T21:07:10.261169340Z",
     "start_time": "2024-08-06T21:07:10.166956806Z"
    }
   },
   "outputs": [],
   "source": [
    "import h5py\n",
    "\n",
    "def hdf5_to_dict(hdf5_file):\n",
    "    def recursively_get_dict(group):\n",
    "        result = {}\n",
    "        for key, item in group.items():\n",
    "            if isinstance(item, h5py.Group):\n",
    "                result[key] = recursively_get_dict(item)\n",
    "            elif isinstance(item, h5py.Dataset):\n",
    "                result[key] = item[()]\n",
    "            else:\n",
    "                raise TypeError(f\"Unsupported type: {type(item)}\")\n",
    "        return result\n",
    "\n",
    "    with h5py.File(hdf5_file, 'r') as file:\n",
    "        return recursively_get_dict(file)\n",
    "\n",
    "# Example usage\n",
    "hdf5_file = '/home/yygx/UNC_Research/pkgs_simu/LIBERO/demonstration_data/robosuite_ln_libero_kitchen_tabletop_manipulation_1722549107_605185_moving_potato_from_shelf_to_the_plate_on_the_table/demo.hdf5'\n",
    "data_dict = hdf5_to_dict(hdf5_file)\n"
   ]
  },
  {
   "cell_type": "code",
   "execution_count": 5,
   "outputs": [
    {
     "data": {
      "text/plain": "((1023, 7), (1023, 71))"
     },
     "execution_count": 5,
     "metadata": {},
     "output_type": "execute_result"
    }
   ],
   "source": [
    "data_dict['data']['demo_1']['actions'].shape, data_dict['data']['demo_1']['states'].shape"
   ],
   "metadata": {
    "collapsed": false,
    "ExecuteTime": {
     "end_time": "2024-08-06T21:07:59.814180103Z",
     "start_time": "2024-08-06T21:07:59.808746175Z"
    }
   },
   "id": "b1bb75027e7a7fbc"
  },
  {
   "cell_type": "code",
   "execution_count": null,
   "outputs": [],
   "source": [],
   "metadata": {
    "collapsed": false,
    "ExecuteTime": {
     "end_time": "2024-08-06T21:06:58.743609334Z",
     "start_time": "2024-08-06T21:06:58.734701616Z"
    }
   },
   "id": "2b1f61b705233d44"
  },
  {
   "cell_type": "code",
   "execution_count": 1,
   "outputs": [
    {
     "name": "stdout",
     "output_type": "stream",
     "text": [
      "\n",
      "============= Initialized Observation Utils with Obs Spec =============\n",
      "\n",
      "using obs modality: rgb with keys: ['agentview_rgb', 'eye_in_hand_rgb']\n",
      "using obs modality: depth with keys: []\n",
      "using obs modality: low_dim with keys: ['gripper_states', 'joint_states']\n",
      "['agentview_rgb', 'eye_in_hand_rgb', 'gripper_states', 'joint_states']\n",
      "SequenceDataset: loading dataset into memory...\n",
      "100%|██████████| 6/6 [00:00<00:00, 1916.67it/s]\n"
     ]
    }
   ],
   "source": [
    "from libero.lifelong.datasets import GroupedTaskDataset, SequenceVLDataset, get_dataset\n",
    "import os\n",
    "\n",
    "modality = {\"rgb\": [\"agentview_rgb\", \"eye_in_hand_rgb\"],\n",
    "            \"depth\": [],\n",
    "            \"low_dim\": [\"gripper_states\", \"joint_states\"]}\n",
    "\n",
    "task_i_dataset, shape_meta = get_dataset(\n",
    "                dataset_path=\"/home/yygx/UNC_Research/pkgs_simu/LIBERO/notebooks/debug_pddl/creation/ds_demo.hdf5\",\n",
    "                obs_modality=modality,\n",
    "                initialize_obs_utils=True,\n",
    "                seq_len=10,\n",
    "            )"
   ],
   "metadata": {
    "collapsed": false,
    "ExecuteTime": {
     "end_time": "2024-08-06T21:47:36.600826842Z",
     "start_time": "2024-08-06T21:47:36.068359661Z"
    }
   },
   "id": "8ed2b3ee6950f2fb"
  },
  {
   "cell_type": "code",
   "execution_count": 1,
   "outputs": [],
   "source": [],
   "metadata": {
    "collapsed": false,
    "ExecuteTime": {
     "end_time": "2024-08-06T21:47:45.190582403Z",
     "start_time": "2024-08-06T21:47:45.170668473Z"
    }
   },
   "id": "735d9223e9d6c1b1"
  },
  {
   "cell_type": "code",
   "execution_count": 1,
   "outputs": [],
   "source": [],
   "metadata": {
    "collapsed": false,
    "ExecuteTime": {
     "end_time": "2024-08-06T21:47:47.334779541Z",
     "start_time": "2024-08-06T21:47:47.327025589Z"
    }
   },
   "id": "85497f6924f93a6d"
  },
  {
   "cell_type": "code",
   "execution_count": 1,
   "outputs": [],
   "source": [],
   "metadata": {
    "collapsed": false,
    "ExecuteTime": {
     "end_time": "2024-08-06T21:47:48.527974244Z",
     "start_time": "2024-08-06T21:47:48.520620899Z"
    }
   },
   "id": "b0e4f1a53dc96d42"
  },
  {
   "cell_type": "code",
   "execution_count": 1,
   "outputs": [],
   "source": [],
   "metadata": {
    "collapsed": false,
    "ExecuteTime": {
     "end_time": "2024-08-06T21:47:50.912942678Z",
     "start_time": "2024-08-06T21:47:50.906936770Z"
    }
   },
   "id": "3723d13798da1e8f"
  },
  {
   "cell_type": "code",
   "execution_count": null,
   "outputs": [],
   "source": [],
   "metadata": {
    "collapsed": false
   },
   "id": "b48a6158acf5895b"
  }
 ],
 "metadata": {
  "kernelspec": {
   "display_name": "Python 3",
   "language": "python",
   "name": "python3"
  },
  "language_info": {
   "codemirror_mode": {
    "name": "ipython",
    "version": 2
   },
   "file_extension": ".py",
   "mimetype": "text/x-python",
   "name": "python",
   "nbconvert_exporter": "python",
   "pygments_lexer": "ipython2",
   "version": "2.7.6"
  }
 },
 "nbformat": 4,
 "nbformat_minor": 5
}
