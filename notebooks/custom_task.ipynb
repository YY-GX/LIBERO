{
 "cells": [
  {
   "cell_type": "code",
   "execution_count": 1,
   "id": "initial_id",
   "metadata": {
    "collapsed": true,
    "ExecuteTime": {
     "end_time": "2024-07-25T20:02:03.702022626Z",
     "start_time": "2024-07-25T20:02:03.307157688Z"
    }
   },
   "outputs": [
    {
     "name": "stderr",
     "output_type": "stream",
     "text": [
      "\u001B[1m\u001B[33m[robosuite WARNING] \u001B[0mNo private macro file found! (macros.py:53)\n",
      "\u001B[1m\u001B[33m[robosuite WARNING] \u001B[0mIt is recommended to use a private macro file (macros.py:54)\n",
      "\u001B[1m\u001B[33m[robosuite WARNING] \u001B[0mTo setup, run: python /home/yygx/anaconda3/envs/libero/lib/python3.8/site-packages/robosuite/scripts/setup_macros.py (macros.py:55)\n"
     ]
    },
    {
     "name": "stdout",
     "output_type": "stream",
     "text": [
      "{'alphabet_soup': <class 'libero.libero.envs.objects.hope_objects.AlphabetSoup'>, 'bbq_sauce': <class 'libero.libero.envs.objects.hope_objects.BbqSauce'>, 'butter': <class 'libero.libero.envs.objects.hope_objects.Butter'>, 'cherries': <class 'libero.libero.envs.objects.hope_objects.Cherries'>, 'chocolate_pudding': <class 'libero.libero.envs.objects.hope_objects.ChocolatePudding'>, 'cookies': <class 'libero.libero.envs.objects.hope_objects.Cookies'>, 'corn': <class 'libero.libero.envs.objects.hope_objects.Corn'>, 'cream_cheese': <class 'libero.libero.envs.objects.hope_objects.CreamCheese'>, 'ketchup': <class 'libero.libero.envs.objects.hope_objects.Ketchup'>, 'macaroni_and_cheese': <class 'libero.libero.envs.objects.hope_objects.MacaroniAndCheese'>, 'mayo': <class 'libero.libero.envs.objects.hope_objects.Mayo'>, 'milk': <class 'libero.libero.envs.objects.hope_objects.Milk'>, 'orange_juice': <class 'libero.libero.envs.objects.hope_objects.OrangeJuice'>, 'popcorn': <class 'libero.libero.envs.objects.hope_objects.Popcorn'>, 'salad_dressing': <class 'libero.libero.envs.objects.hope_objects.SaladDressing'>, 'new_salad_dressing': <class 'libero.libero.envs.objects.hope_objects.NewSaladDressing'>, 'tomato_sauce': <class 'libero.libero.envs.objects.hope_objects.TomatoSauce'>, 'rack': <class 'libero.libero.envs.objects.google_scanned_objects.Rack'>, 'white_bowl': <class 'libero.libero.envs.objects.google_scanned_objects.WhiteBowl'>, 'akita_black_bowl': <class 'libero.libero.envs.objects.google_scanned_objects.AkitaBlackBowl'>, 'plate': <class 'libero.libero.envs.objects.google_scanned_objects.Plate'>, 'basket': <class 'libero.libero.envs.objects.google_scanned_objects.Basket'>, 'chefmate_8_frypan': <class 'libero.libero.envs.objects.google_scanned_objects.Chefmate8Frypan'>, 'glazed_rim_porcelain_ramekin': <class 'libero.libero.envs.objects.google_scanned_objects.GlazedRimPorcelainRamekin'>, 'microwave': <class 'libero.libero.envs.objects.articulated_objects.Microwave'>, 'slide_cabinet': <class 'libero.libero.envs.objects.articulated_objects.SlideCabinet'>, 'window': <class 'libero.libero.envs.objects.articulated_objects.Window'>, 'faucet': <class 'libero.libero.envs.objects.articulated_objects.Faucet'>, 'basin_faucet': <class 'libero.libero.envs.objects.articulated_objects.BasinFaucet'>, 'short_cabinet': <class 'libero.libero.envs.objects.articulated_objects.ShortCabinet'>, 'short_fridge': <class 'libero.libero.envs.objects.articulated_objects.ShortFridge'>, 'wooden_cabinet': <class 'libero.libero.envs.objects.articulated_objects.WoodenCabinet'>, 'white_cabinet': <class 'libero.libero.envs.objects.articulated_objects.WhiteCabinet'>, 'flat_stove': <class 'libero.libero.envs.objects.articulated_objects.FlatStove'>, 'wooden_tray': <class 'libero.libero.envs.objects.turbosquid_objects.WoodenTray'>, 'white_storage_box': <class 'libero.libero.envs.objects.turbosquid_objects.WhiteStorageBox'>, 'wooden_shelf': <class 'libero.libero.envs.objects.turbosquid_objects.WoodenShelf'>, 'wooden_two_layer_shelf': <class 'libero.libero.envs.objects.turbosquid_objects.WoodenTwoLayerShelf'>, 'wine_rack': <class 'libero.libero.envs.objects.turbosquid_objects.WineRack'>, 'wine_bottle': <class 'libero.libero.envs.objects.turbosquid_objects.WineBottle'>, 'dining_set_group': <class 'libero.libero.envs.objects.turbosquid_objects.DiningSetGroup'>, 'bowl_drainer': <class 'libero.libero.envs.objects.turbosquid_objects.BowlDrainer'>, 'moka_pot': <class 'libero.libero.envs.objects.turbosquid_objects.MokaPot'>, 'black_book': <class 'libero.libero.envs.objects.turbosquid_objects.BlackBook'>, 'yellow_book': <class 'libero.libero.envs.objects.turbosquid_objects.YellowBook'>, 'red_coffee_mug': <class 'libero.libero.envs.objects.turbosquid_objects.RedCoffeeMug'>, 'desk_caddy': <class 'libero.libero.envs.objects.turbosquid_objects.DeskCaddy'>, 'porcelain_mug': <class 'libero.libero.envs.objects.turbosquid_objects.PorcelainMug'>, 'white_yellow_mug': <class 'libero.libero.envs.objects.turbosquid_objects.WhiteYellowMug'>, 'target_zone': <class 'libero.libero.envs.objects.target_zones.TargetZone'>}\n"
     ]
    }
   ],
   "source": [
    "from libero.libero.envs.objects import get_object_dict, get_object_fn\n",
    "\n",
    "# Get a dictionary of all the objects\n",
    "object_dict = get_object_dict()\n",
    "print(object_dict)"
   ]
  },
  {
   "cell_type": "code",
   "execution_count": null,
   "outputs": [],
   "source": [],
   "metadata": {
    "collapsed": false
   },
   "id": "6130e765ed91c87a"
  }
 ],
 "metadata": {
  "kernelspec": {
   "display_name": "Python 3",
   "language": "python",
   "name": "python3"
  },
  "language_info": {
   "codemirror_mode": {
    "name": "ipython",
    "version": 2
   },
   "file_extension": ".py",
   "mimetype": "text/x-python",
   "name": "python",
   "nbconvert_exporter": "python",
   "pygments_lexer": "ipython2",
   "version": "2.7.6"
  }
 },
 "nbformat": 4,
 "nbformat_minor": 5
}
